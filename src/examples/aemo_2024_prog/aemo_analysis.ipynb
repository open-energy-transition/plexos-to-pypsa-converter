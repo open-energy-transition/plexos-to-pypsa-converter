{
 "cells": [
  {
   "cell_type": "markdown",
   "id": "title",
   "metadata": {},
   "source": [
    "# AEMO 2024 ISP Progressive Change - Network Analysis\n",
    "\n",
    "This notebook performs comprehensive analysis and visualization of the solved AEMO 2024 Integrated System Plan (ISP) Progressive Change scenario.\n",
    "\n",
    "## Analysis Overview\n",
    "\n",
    "This notebook will analyze:\n",
    "1. **Energy Balance** - Supply and demand patterns across NEM regions\n",
    "2. **Generation Capacity** - Optimal capacity by technology\n",
    "3. **Capacity Factors** - Generator utilization rates\n",
    "4. **Economic Analysis** - Capital and operational costs\n",
    "5. **Comprehensive Dashboard** - Multi-metric overview\n",
    "\n",
    "All visualizations use **Tableau 10 color palette** for professional, publication-ready figures.\n",
    "\n",
    "## AEMO Context\n",
    "\n",
    "The AEMO 2024 ISP Progressive Change scenario models Australia's National Electricity Market (NEM) transition, including:\n",
    "- High renewable energy penetration\n",
    "- Coal retirement schedules\n",
    "- Interstate transmission expansion\n",
    "- Regional demand patterns (QLD, NSW, VIC, SA, TAS)\n",
    "\n",
    "---"
   ]
  },
  {
   "cell_type": "markdown",
   "id": "setup-header",
   "metadata": {},
   "source": [
    "## Setup and Configuration"
   ]
  },
  {
   "cell_type": "code",
   "execution_count": null,
   "id": "imports",
   "metadata": {},
   "outputs": [],
   "source": [
    "import sys\n",
    "from pathlib import Path\n",
    "import matplotlib.pyplot as plt\n",
    "import pandas as pd\n",
    "import pypsa\n",
    "\n",
    "# Add src to path\n",
    "sys.path.insert(0, str(Path.cwd().parent.parent))\n",
    "\n",
    "from analysis import NetworkAnalyzer\n",
    "from analysis.styles import apply_default_style\n",
    "\n",
    "# Apply default styling\n",
    "apply_default_style()\n",
    "\n",
    "# Configure matplotlib for inline display\n",
    "%matplotlib inline\n",
    "plt.rcParams[\"figure.dpi\"] = 100\n",
    "plt.rcParams[\"savefig.dpi\"] = 150\n",
    "plt.rcParams[\"figure.figsize\"] = (10, 6)\n",
    "\n",
    "print(\"✓ Imports and configuration complete\")"
   ]
  },
  {
   "cell_type": "markdown",
   "id": "load-header",
   "metadata": {},
   "source": [
    "## Load Solved Network\n",
    "\n",
    "Load the network file created by `aemo_solve.ipynb`:"
   ]
  },
  {
   "cell_type": "code",
   "execution_count": null,
   "id": "load",
   "metadata": {},
   "outputs": [],
   "source": [
    "# Define path to solved network\n",
    "network_file = (\n",
    "    Path.cwd().parent\n",
    "    / \"results\"\n",
    "    / \"aemo-2024-isp-progressive-change\"\n",
    "    / \"solved_network_2025.nc\"\n",
    ")\n",
    "\n",
    "if not network_file.exists():\n",
    "    raise FileNotFoundError(\n",
    "        f\"Network file not found: {network_file}\\n\"\n",
    "        \"Please run aemo_solve.ipynb first to generate the solved network.\"\n",
    "    )\n",
    "\n",
    "# Load network\n",
    "print(f\"Loading network from: {network_file.name}\")\n",
    "network = pypsa.Network()\n",
    "network.import_from_netcdf(str(network_file))\n",
    "\n",
    "print(f\"✓ Network loaded successfully\")\n",
    "print(f\"  File size: {network_file.stat().st_size / 1024 / 1024:.2f} MB\")"
   ]
  },
  {
   "cell_type": "markdown",
   "id": "analyzer-header",
   "metadata": {},
   "source": [
    "## Initialize Network Analyzer\n",
    "\n",
    "Create the `NetworkAnalyzer` with **Tableau 10 color palette** for consistent, professional visualizations:"
   ]
  },
  {
   "cell_type": "code",
   "execution_count": null,
   "id": "analyzer",
   "metadata": {},
   "outputs": [],
   "source": [
    "# Initialize analyzer with Tableau colors\n",
    "analyzer = NetworkAnalyzer(\n",
    "    network, exclude_slack_default=True, color_palette=\"tableau10\"\n",
    ")\n",
    "\n",
    "print(\"✓ NetworkAnalyzer initialized with Tableau 10 color palette\")\n",
    "print(f\"  Spatial resolution: {analyzer.spatial_resolution}\")\n",
    "print(f\"  Multi-period: {analyzer.multi_period}\")\n",
    "print(f\"  Slack generators: {len(analyzer.slack_generators)}\")"
   ]
  },
  {
   "cell_type": "markdown",
   "id": "overview-header",
   "metadata": {},
   "source": [
    "---\n",
    "\n",
    "# Network Overview\n",
    "\n",
    "## Network Statistics\n",
    "\n",
    "Display key statistics about the AEMO network structure:"
   ]
  },
  {
   "cell_type": "code",
   "execution_count": null,
   "id": "overview-stats",
   "metadata": {},
   "outputs": [],
   "source": [
    "# Get network info\n",
    "info = analyzer.info()\n",
    "\n",
    "print(\"=\" * 70)\n",
    "print(\" AEMO 2024 ISP Progressive Change - Network Statistics\")\n",
    "print(\"=\" * 70)\n",
    "print()\n",
    "print(f\"Buses:              {info['buses']:>6}\")\n",
    "print(f\"Generators:         {info['generators']:>6}\")\n",
    "print(f\"Loads:              {info['loads']:>6}\")\n",
    "print(f\"Links:              {info['links']:>6}\")\n",
    "print(f\"Storage Units:      {info['storage_units']:>6}\")\n",
    "print(f\"Stores:             {info['stores']:>6}\")\n",
    "print()\n",
    "print(f\"Snapshots:          {info['snapshots']:>6}\")\n",
    "\n",
    "# Display investment periods\n",
    "inv_periods = info[\"investment_periods\"]\n",
    "if inv_periods > 0:\n",
    "    print(f\"Investment Periods: {inv_periods:>6} (optimized for 2025)\")\n",
    "else:\n",
    "    print(f\"Investment Periods: {'N/A':>6}\")\n",
    "\n",
    "print(f\"Carriers:           {info['carriers']:>6}\")\n",
    "print(f\"Bus Carriers:       {len(info['bus_carriers']):>6}\")\n",
    "print()\n",
    "print(f\"Spatial Resolution: {info['spatial_resolution']}\")\n",
    "print(f\"Multi-period:       {info['multi_period']}\")\n",
    "print()\n",
    "print(f\"Has Time Series:    {info['has_time_series']}\")\n",
    "print(f\"Has Storage:        {info['has_storage']}\")\n",
    "print(f\"Has Stores:         {info['has_stores']}\")\n",
    "print(f\"Has Links:          {info['has_links']}\")\n",
    "print()\n",
    "print(\"=\" * 70)"
   ]
  },
  {
   "cell_type": "markdown",
   "id": "regions-header",
   "metadata": {},
   "source": [
    "## NEM Regions\n",
    "\n",
    "Display the buses representing Australian NEM regions:"
   ]
  },
  {
   "cell_type": "code",
   "execution_count": null,
   "id": "regions-list",
   "metadata": {},
   "outputs": [],
   "source": [
    "# Display NEM regions\n",
    "print(f\"NEM Regions (Buses): {len(network.buses)}\\n\")\n",
    "for i, bus in enumerate(network.buses.index, 1):\n",
    "    print(f\"  {i}. {bus}\")"
   ]
  },
  {
   "cell_type": "markdown",
   "id": "carriers-header",
   "metadata": {},
   "source": [
    "## Generator Carriers\n",
    "\n",
    "List all energy carriers (technologies) in the model:"
   ]
  },
  {
   "cell_type": "code",
   "execution_count": null,
   "id": "carriers-list",
   "metadata": {},
   "outputs": [],
   "source": [
    "# Display carriers\n",
    "carriers = sorted(network.generators.carrier.unique())\n",
    "print(f\"Total unique carriers: {len(carriers)}\\n\")\n",
    "\n",
    "# Create a formatted list\n",
    "for i, carrier in enumerate(carriers, 1):\n",
    "    if i % 3 == 1:\n",
    "        print(f\"  {i:2d}. {carrier:25s}\", end=\"\")\n",
    "    elif i % 3 == 0:\n",
    "        print(f\"  {i:2d}. {carrier}\")\n",
    "    else:\n",
    "        print(f\"  {i:2d}. {carrier:25s}\", end=\"\")\n",
    "if len(carriers) % 3 != 0:\n",
    "    print()"
   ]
  },
  {
   "cell_type": "markdown",
   "id": "energy-balance-section",
   "metadata": {},
   "source": [
    "---\n",
    "\n",
    "# Energy Balance Analysis\n",
    "\n",
    "## Understanding Energy Balance\n",
    "\n",
    "Energy balance shows the **supply** (positive) and **withdrawal** (negative) of energy by carrier:\n",
    "- **Supply**: Energy generated or supplied to the NEM (generators, imports)\n",
    "- **Withdrawal**: Energy consumed or withdrawn from the NEM (loads, exports, losses)\n",
    "\n",
    "This analysis helps us understand:\n",
    "- Which technologies provide the most energy to the NEM\n",
    "- How energy is consumed across Australian regions\n",
    "- The overall energy mix in the Progressive Change scenario\n",
    "\n",
    "## Figure 1: Total Energy Balance by Carrier"
   ]
  },
  {
   "cell_type": "code",
   "execution_count": null,
   "id": "energy-balance-plot",
   "metadata": {},
   "outputs": [],
   "source": [
    "# Create energy balance plot\n",
    "fig, ax = plt.subplots(figsize=(12, 8))\n",
    "analyzer.plot_energy_balance_totals(ax=ax)\n",
    "plt.tight_layout()\n",
    "plt.show()\n",
    "\n",
    "print(\n",
    "    \"Figure 1: Total energy balance showing supply (right) and withdrawal (left) by carrier.\"\n",
    ")\n",
    "print(\"Colors: Tableau 10 palette\")"
   ]
  },
  {
   "cell_type": "markdown",
   "id": "energy-metrics",
   "metadata": {},
   "source": [
    "### Energy Balance Metrics\n",
    "\n",
    "Extract key energy metrics:"
   ]
  },
  {
   "cell_type": "code",
   "execution_count": null,
   "id": "energy-metrics-calc",
   "metadata": {},
   "outputs": [],
   "source": [
    "# Get supply and withdrawal data\n",
    "supply = analyzer.get_supply()\n",
    "withdrawal = analyzer.get_withdrawal()\n",
    "\n",
    "print(\"Top 5 Energy Suppliers:\")\n",
    "print(\"=\" * 50)\n",
    "for carrier, value in supply.head(5).items():\n",
    "    carrier_str = str(carrier) if not isinstance(carrier, str) else carrier\n",
    "    print(f\"  {carrier_str:30s} {value:>15,.0f} MWh\")\n",
    "\n",
    "print(\"\\nTop 5 Energy Withdrawals:\")\n",
    "print(\"=\" * 50)\n",
    "for carrier, value in withdrawal.head(5).items():\n",
    "    carrier_str = str(carrier) if not isinstance(carrier, str) else carrier\n",
    "    print(f\"  {carrier_str:30s} {value:>15,.0f} MWh\")\n",
    "\n",
    "print(f\"\\nTotal Supply:    {supply.sum():>15,.0f} MWh\")\n",
    "print(f\"Total Withdrawal: {abs(withdrawal.sum()):>15,.0f} MWh\")"
   ]
  },
  {
   "cell_type": "markdown",
   "id": "capacity-section",
   "metadata": {},
   "source": [
    "---\n",
    "\n",
    "# Generation Capacity Analysis\n",
    "\n",
    "## Understanding Capacity\n",
    "\n",
    "**Optimal Capacity** represents the installed generation capacity (in MW) for each technology in 2025. This shows:\n",
    "- The mix of generation technologies in the NEM\n",
    "- Relative size of each technology's capacity\n",
    "- Investment decisions for the Progressive Change scenario\n",
    "\n",
    "## Figure 2: Optimal Capacity by Carrier"
   ]
  },
  {
   "cell_type": "code",
   "execution_count": null,
   "id": "capacity-plot",
   "metadata": {},
   "outputs": [],
   "source": [
    "# Create capacity overview plot\n",
    "fig, ax = plt.subplots(figsize=(12, 7))\n",
    "analyzer.plot_capacity_overview(capacity_type=\"optimal\", groupby=\"carrier\", ax=ax)\n",
    "plt.tight_layout()\n",
    "plt.show()\n",
    "\n",
    "print(\"Figure 2: Optimal generation capacity by carrier (MW).\")\n",
    "print(\"Shows the installed capacity for each technology type in 2025.\")"
   ]
  },
  {
   "cell_type": "markdown",
   "id": "capacity-metrics",
   "metadata": {},
   "source": [
    "### Capacity Metrics"
   ]
  },
  {
   "cell_type": "code",
   "execution_count": null,
   "id": "capacity-metrics-calc",
   "metadata": {},
   "outputs": [],
   "source": [
    "# Get capacity data\n",
    "capacity = analyzer.get_optimal_capacity()\n",
    "total_capacity = capacity.sum()\n",
    "\n",
    "print(\"Top 10 Technologies by Capacity:\")\n",
    "print(\"=\" * 70)\n",
    "print(f\"{'Carrier':<30s} {'Capacity (MW)':>15s} {'Share':>10s}\")\n",
    "print(\"=\" * 70)\n",
    "\n",
    "for carrier, cap in capacity.head(10).items():\n",
    "    carrier_str = str(carrier) if not isinstance(carrier, str) else carrier\n",
    "    share = cap / total_capacity * 100\n",
    "    print(f\"{carrier_str:<30s} {cap:>15,.0f} {share:>9.1f}%\")\n",
    "\n",
    "print(\"=\" * 70)\n",
    "print(f\"{'TOTAL':<30s} {total_capacity:>15,.0f} {100.0:>9.1f}%\")\n",
    "print(\"=\" * 70)"
   ]
  },
  {
   "cell_type": "markdown",
   "id": "capacity-factors-section",
   "metadata": {},
   "source": [
    "## Capacity Factors\n",
    "\n",
    "**Capacity Factor** measures how much a generator is actually used relative to its maximum capacity:\n",
    "- **1.0 (100%)**: Generator runs at full capacity continuously\n",
    "- **0.5 (50%)**: Generator operates at half capacity on average\n",
    "- **Low values**: Variable renewables (solar, wind) or peaking plants\n",
    "- **High values**: Baseload plants (coal, nuclear) or must-run facilities\n",
    "\n",
    "## Figure 3: Capacity Factors by Carrier"
   ]
  },
  {
   "cell_type": "code",
   "execution_count": null,
   "id": "capacity-factors-plot",
   "metadata": {},
   "outputs": [],
   "source": [
    "# Create capacity factors plot\n",
    "fig, ax = plt.subplots(figsize=(12, 7))\n",
    "analyzer.plot_capacity_factors(groupby=\"carrier\", ax=ax)\n",
    "plt.tight_layout()\n",
    "plt.show()\n",
    "\n",
    "print(\"Figure 3: Capacity factors by carrier (utilization rate, 0-1).\")\n",
    "print(\"Higher values indicate more consistent operation.\")"
   ]
  },
  {
   "cell_type": "markdown",
   "id": "cf-metrics",
   "metadata": {},
   "source": [
    "### Capacity Factor Analysis"
   ]
  },
  {
   "cell_type": "code",
   "execution_count": null,
   "id": "cf-metrics-calc",
   "metadata": {},
   "outputs": [],
   "source": [
    "# Get capacity factor data\n",
    "cf = analyzer.get_capacity_factors()\n",
    "\n",
    "print(\"Capacity Factors by Technology:\")\n",
    "print(\"=\" * 60)\n",
    "print(f\"{'Carrier':<30s} {'Capacity Factor':>15s} {'Utilization':>10s}\")\n",
    "print(\"=\" * 60)\n",
    "\n",
    "for carrier, factor in cf.head(15).items():\n",
    "    carrier_str = str(carrier) if not isinstance(carrier, str) else carrier\n",
    "    print(f\"{carrier_str:<30s} {factor:>15.3f} {factor * 100:>9.1f}%\")\n",
    "\n",
    "print(\"=\" * 60)\n",
    "\n",
    "# Summary statistics\n",
    "print(f\"\\nMean Capacity Factor: {cf.mean():.3f} ({cf.mean() * 100:.1f}%)\")\n",
    "print(f\"Median Capacity Factor: {cf.median():.3f} ({cf.median() * 100:.1f}%)\")"
   ]
  },
  {
   "cell_type": "markdown",
   "id": "cost-section",
   "metadata": {},
   "source": [
    "---\n",
    "\n",
    "# Economic Analysis\n",
    "\n",
    "## Understanding Costs\n",
    "\n",
    "The model tracks two types of costs:\n",
    "- **CAPEX (Capital Expenditure)**: Upfront investment costs for building capacity\n",
    "- **OPEX (Operational Expenditure)**: Ongoing costs for fuel, maintenance, and operation\n",
    "\n",
    "This analysis shows:\n",
    "- Which technologies have high capital vs. operating costs\n",
    "- The economic trade-offs between technologies in the NEM\n",
    "- Total system costs for 2025\n",
    "\n",
    "## Figure 4: Cost Breakdown (CAPEX + OPEX)"
   ]
  },
  {
   "cell_type": "code",
   "execution_count": null,
   "id": "cost-breakdown-plot",
   "metadata": {},
   "outputs": [],
   "source": [
    "# Create cost breakdown plot\n",
    "fig, ax = plt.subplots(figsize=(12, 7))\n",
    "analyzer.plot_cost_breakdown(groupby=\"carrier\", ax=ax)\n",
    "plt.tight_layout()\n",
    "plt.show()\n",
    "\n",
    "print(\"Figure 4: Cost breakdown showing CAPEX (blue) and OPEX (red) by carrier.\")\n",
    "print(\"Total height represents total cost per technology.\")"
   ]
  },
  {
   "cell_type": "markdown",
   "id": "cost-comparison-header",
   "metadata": {},
   "source": [
    "## Figure 5: CAPEX vs OPEX Comparison"
   ]
  },
  {
   "cell_type": "code",
   "execution_count": null,
   "id": "cost-comparison-plot",
   "metadata": {},
   "outputs": [],
   "source": [
    "# Create cost comparison plot\n",
    "fig, axes = analyzer.plot_cost_comparison(groupby=\"carrier\", figsize=(14, 6))\n",
    "plt.tight_layout()\n",
    "plt.show()\n",
    "\n",
    "print(\"Figure 5: Side-by-side comparison of CAPEX and OPEX by carrier.\")\n",
    "print(\"Left: Capital costs | Right: Operating costs\")"
   ]
  },
  {
   "cell_type": "markdown",
   "id": "cost-metrics",
   "metadata": {},
   "source": [
    "### Cost Metrics"
   ]
  },
  {
   "cell_type": "code",
   "execution_count": null,
   "id": "cost-metrics-calc",
   "metadata": {},
   "outputs": [],
   "source": [
    "# Get cost data\n",
    "costs = analyzer.get_costs(cost_type=\"total\")\n",
    "capex = costs[\"capex\"]\n",
    "opex = costs[\"opex\"]\n",
    "total = costs[\"total\"]\n",
    "\n",
    "print(\"Top 10 Technologies by Total Cost:\")\n",
    "print(\"=\" * 90)\n",
    "print(\n",
    "    f\"{'Carrier':<25s} {'CAPEX ($)':>15s} {'OPEX ($)':>15s} {'Total ($)':>15s} {'Share':>8s}\"\n",
    ")\n",
    "print(\"=\" * 90)\n",
    "\n",
    "for carrier in total.head(10).index:\n",
    "    carrier_str = str(carrier) if not isinstance(carrier, str) else carrier\n",
    "    cap_cost = capex.get(carrier, 0)\n",
    "    op_cost = opex.get(carrier, 0)\n",
    "    tot_cost = total[carrier]\n",
    "    share = tot_cost / total.sum() * 100\n",
    "    print(\n",
    "        f\"{carrier_str:<25s} {cap_cost:>15,.0f} {op_cost:>15,.0f} {tot_cost:>15,.0f} {share:>7.1f}%\"\n",
    "    )\n",
    "\n",
    "print(\"=\" * 90)\n",
    "total_capex = capex.sum()\n",
    "total_opex = opex.sum()\n",
    "total_cost = total.sum()\n",
    "print(\n",
    "    f\"{'TOTAL':<25s} {total_capex:>15,.0f} {total_opex:>15,.0f} {total_cost:>15,.0f} {100.0:>7.1f}%\"\n",
    ")\n",
    "print(\"=\" * 90)\n",
    "\n",
    "print(f\"\\nCost Breakdown:\")\n",
    "print(f\"  CAPEX: ${total_capex:,.0f} ({total_capex / total_cost * 100:.1f}%)\")\n",
    "print(f\"  OPEX:  ${total_opex:,.0f} ({total_opex / total_cost * 100:.1f}%)\")"
   ]
  },
  {
   "cell_type": "markdown",
   "id": "dashboard-section",
   "metadata": {},
   "source": [
    "---\n",
    "\n",
    "# Comprehensive Dashboard\n",
    "\n",
    "## Multi-Metric Overview\n",
    "\n",
    "This dashboard combines the key metrics from all previous analyses into a single view:\n",
    "- **Top Left**: Energy balance totals\n",
    "- **Top Right**: Optimal capacity by carrier\n",
    "- **Bottom Left**: Cost breakdown (CAPEX + OPEX)\n",
    "- **Bottom Right**: Capacity factors\n",
    "\n",
    "All plots use consistent **Tableau 10 colors** for easy comparison across metrics.\n",
    "\n",
    "## Figure 6: Network Analysis Dashboard"
   ]
  },
  {
   "cell_type": "code",
   "execution_count": null,
   "id": "dashboard-plot",
   "metadata": {},
   "outputs": [],
   "source": [
    "# Create comprehensive dashboard\n",
    "fig = analyzer.create_dashboard(figsize=(16, 12))\n",
    "plt.tight_layout()\n",
    "plt.show()\n",
    "\n",
    "print(\"Figure 6: Comprehensive dashboard with all key metrics.\")\n",
    "print(\"All plots use consistent Tableau 10 color palette.\")"
   ]
  },
  {
   "cell_type": "markdown",
   "id": "summary-section",
   "metadata": {},
   "source": [
    "---\n",
    "\n",
    "# Key Findings & Summary\n",
    "\n",
    "## Summary Statistics Table"
   ]
  },
  {
   "cell_type": "code",
   "execution_count": null,
   "id": "summary-table",
   "metadata": {},
   "outputs": [],
   "source": [
    "# Create summary statistics DataFrame\n",
    "summary_data = {\n",
    "    \"Metric\": [\n",
    "        \"Total Capacity\",\n",
    "        \"Total Energy Supply\",\n",
    "        \"Total Energy Withdrawal\",\n",
    "        \"Mean Capacity Factor\",\n",
    "        \"Total CAPEX\",\n",
    "        \"Total OPEX\",\n",
    "        \"Total System Cost\",\n",
    "        \"Number of Generators\",\n",
    "        \"Number of Carriers\",\n",
    "        \"Number of Buses\",\n",
    "        \"Optimization Year\",\n",
    "    ],\n",
    "    \"Value\": [\n",
    "        f\"{capacity.sum():,.0f} MW\",\n",
    "        f\"{supply.sum():,.0f} MWh\",\n",
    "        f\"{abs(withdrawal.sum()):,.0f} MWh\",\n",
    "        f\"{cf.mean():.3f} ({cf.mean() * 100:.1f}%)\",\n",
    "        f\"${capex.sum():,.0f}\",\n",
    "        f\"${opex.sum():,.0f}\",\n",
    "        f\"${total.sum():,.0f}\",\n",
    "        f\"{len(network.generators)}\",\n",
    "        f\"{len(carriers)}\",\n",
    "        f\"{len(network.buses)}\",\n",
    "        \"2025\",\n",
    "    ],\n",
    "}\n",
    "\n",
    "summary_df = pd.DataFrame(summary_data)\n",
    "print(\"=\" * 70)\n",
    "print(\" AEMO 2024 ISP Progressive Change - Summary (2025)\")\n",
    "print(\"=\" * 70)\n",
    "print()\n",
    "print(summary_df.to_string(index=False))\n",
    "print()\n",
    "print(\"=\" * 70)"
   ]
  },
  {
   "cell_type": "markdown",
   "id": "insights",
   "metadata": {},
   "source": [
    "## Key Insights - AEMO Progressive Change Scenario\n",
    "\n",
    "Based on the analysis above, we can observe for the 2025 investment period:\n",
    "\n",
    "### Energy Mix in the NEM\n",
    "- The Progressive Change scenario shows the distribution of energy generation across different technologies\n",
    "- Supply and withdrawal patterns reveal the primary energy flows across Australian regions\n",
    "- Transition from coal to renewable energy sources\n",
    "\n",
    "### Capacity Deployment\n",
    "- Optimal capacity shows investment decisions for 2025\n",
    "- The capacity mix reflects the balance between:\n",
    "  - Coal retirement schedules\n",
    "  - Renewable energy expansion (wind, solar)\n",
    "  - Firming capacity (batteries, gas)\n",
    "\n",
    "### Technology Utilization\n",
    "- Capacity factors reveal how consistently different technologies operate in the NEM\n",
    "- Variable renewables (wind, solar) show lower capacity factors due to intermittency\n",
    "- Baseload and firming plants show higher capacity factors\n",
    "\n",
    "### Economic Trade-offs\n",
    "- The cost analysis shows the balance between:\n",
    "  - Capital-intensive renewables (high CAPEX, low OPEX)\n",
    "  - Fuel-intensive thermal generation (lower CAPEX, higher OPEX)\n",
    "- Progressive Change scenario investment priorities\n",
    "\n",
    "### Regional Considerations\n",
    "- Interstate transmission flows between NEM regions (QLD, NSW, VIC, SA, TAS)\n",
    "- Regional generation and demand patterns\n",
    "- Interconnector utilization\n",
    "\n",
    "---"
   ]
  },
  {
   "cell_type": "markdown",
   "id": "export-section",
   "metadata": {},
   "source": [
    "## Export Figures\n",
    "\n",
    "Optionally save all figures to files for reports or presentations:"
   ]
  },
  {
   "cell_type": "code",
   "execution_count": null,
   "id": "export-figures",
   "metadata": {},
   "outputs": [],
   "source": [
    "# Uncomment to save figures\n",
    "# output_dir = Path(\"figures\")\n",
    "# output_dir.mkdir(exist_ok=True)\n",
    "\n",
    "# print(\"Saving figures...\")\n",
    "# analyzer.plot_energy_balance_totals(save_path=output_dir / \"aemo_energy_balance.png\", dpi=300)\n",
    "# analyzer.plot_capacity_overview(save_path=output_dir / \"aemo_capacity.png\", dpi=300)\n",
    "# analyzer.plot_capacity_factors(save_path=output_dir / \"aemo_capacity_factors.png\", dpi=300)\n",
    "# analyzer.plot_cost_breakdown(save_path=output_dir / \"aemo_costs.png\", dpi=300)\n",
    "# analyzer.create_dashboard(save_path=output_dir / \"aemo_dashboard.png\", dpi=300)\n",
    "# print(f\"✓ Figures saved to {output_dir}/\")\n",
    "\n",
    "print(\"To save figures, uncomment the code above and run this cell.\")"
   ]
  },
  {
   "cell_type": "markdown",
   "id": "conclusion",
   "metadata": {},
   "source": [
    "---\n",
    "\n",
    "## Analysis Complete\n",
    "\n",
    "✓ All visualizations generated with **Tableau 10 color palette**\n",
    "\n",
    "✓ Comprehensive analysis of AEMO 2024 ISP Progressive Change scenario (2025)\n",
    "\n",
    "✓ Key findings summarized above\n",
    "\n",
    "### Next Steps\n",
    "\n",
    "You can:\n",
    "1. Modify the analysis by changing parameters in the cells above\n",
    "2. Export figures for reports (uncomment export section)\n",
    "3. Compare with other investment periods (2030, 2035, 2040, 2050)\n",
    "4. Analyze specific NEM regions or carriers in detail\n",
    "5. Compare with other AEMO scenarios (Green Energy Exports, Step Change)\n",
    "\n",
    "---"
   ]
  }
 ],
 "metadata": {
  "kernelspec": {
   "display_name": "",
   "language": "python",
   "name": ""
  },
  "language_info": {
   "codemirror_mode": {
    "name": "ipython",
    "version": 3
   },
   "file_extension": ".py",
   "mimetype": "text/x-python",
   "name": "python",
   "nbconvert_exporter": "python",
   "pygments_lexer": "ipython3",
   "version": "3.11.9"
  }
 },
 "nbformat": 4,
 "nbformat_minor": 5
}
