{
 "cells": [
  {
   "cell_type": "markdown",
   "id": "intro",
   "metadata": {},
   "source": [
    "# AEMO 2024 ISP Progressive Change Model - Execution\n",
    "\n",
    "This notebook executes the AEMO 2024 Integrated System Plan (ISP) Progressive Change scenario using PyPSA.\n",
    "\n",
    "## Model Overview\n",
    "\n",
    "**AEMO 2024 ISP Progressive Change** represents Australia's National Electricity Market (NEM) including:\n",
    "- Generation resources across all Australian states\n",
    "- Transmission infrastructure (interconnectors)\n",
    "- Variable renewable energy (VRE) profiles\n",
    "- Multi-period investment optimization (2025-2050)\n",
    "\n",
    "This model uses the **per-node strategy** where each demand file maps to a network bus (traditional approach).\n",
    "\n",
    "## Configuration\n",
    "\n",
    "- **Optimization Year**: 2025 (single year from multi-period model)\n",
    "- **Output File**: `solved_network_2025.nc`\n",
    "- **Model Type**: Electricity network with investment periods\n",
    "- **Demand Strategy**: Per-node assignment\n",
    "\n",
    "**Note**: While AEMO is a multi-period model (2025, 2030, 2035, 2040, 2050), we solve only for 2025 to minimize computation time.\n",
    "\n",
    "---"
   ]
  },
  {
   "cell_type": "markdown",
   "id": "setup-header",
   "metadata": {},
   "source": [
    "## Setup and Imports"
   ]
  },
  {
   "cell_type": "code",
   "execution_count": null,
   "id": "imports",
   "metadata": {},
   "outputs": [],
   "source": [
    "import sys\n",
    "import time\n",
    "from pathlib import Path\n",
    "\n",
    "# Add src to path\n",
    "sys.path.insert(0, str(Path.cwd().parent.parent))\n",
    "\n",
    "import pypsa\n",
    "\n",
    "from workflow import run_model_workflow"
   ]
  },
  {
   "cell_type": "markdown",
   "id": "config-header",
   "metadata": {},
   "source": [
    "## Model Configuration\n",
    "\n",
    "We'll configure the AEMO 2024 ISP Progressive Change model to solve for **year 2025 only**. The model will:\n",
    "\n",
    "1. Load the PLEXOS XML data and time series\n",
    "2. Convert to PyPSA format with per-node strategy\n",
    "3. Optimize for the 2025 investment period\n",
    "4. Save results to a NetCDF file\n",
    "\n",
    "**Output Location**: `../results/aemo-2024-isp-progressive-change/solved_network_2025.nc`"
   ]
  },
  {
   "cell_type": "code",
   "execution_count": null,
   "id": "config",
   "metadata": {},
   "outputs": [],
   "source": [
    "# Configuration\n",
    "model_id = \"aemo-2024-isp-progressive-change\"\n",
    "optimize_year = 2025\n",
    "output_filename = \"solved_network_2025.nc\"\n",
    "results_dir = Path.cwd().parent / \"results\" / model_id\n",
    "output_path = results_dir / output_filename\n",
    "\n",
    "print(f\"Model ID: {model_id}\")\n",
    "print(f\"Optimization Year: {optimize_year}\")\n",
    "print(f\"Output file: {output_path}\")\n",
    "print(f\"Results directory: {results_dir}\")"
   ]
  },
  {
   "cell_type": "markdown",
   "id": "solve-header",
   "metadata": {},
   "source": [
    "## Execute Model Solve\n",
    "\n",
    "This cell will execute the complete workflow:\n",
    "- Load PLEXOS data\n",
    "- Create PyPSA network\n",
    "- Run optimization for year 2025\n",
    "- Save results\n",
    "\n",
    "**Note**: This may take several minutes depending on the model size and your system. The solve log will be displayed below.\n",
    "\n",
    "**AEMO Context**: The AEMO model includes:\n",
    "- Multiple NEM regions (QLD, NSW, VIC, SA, TAS)\n",
    "- High renewable penetration scenarios\n",
    "- Interstate interconnectors"
   ]
  },
  {
   "cell_type": "code",
   "execution_count": null,
   "id": "solve",
   "metadata": {},
   "outputs": [],
   "source": [
    "# Track solve time\n",
    "start_time = time.time()\n",
    "\n",
    "print(\"=\" * 70)\n",
    "print(f\" Starting AEMO 2024 ISP Progressive Model Solve (Year {optimize_year})\")\n",
    "print(\"=\" * 70)\n",
    "print()\n",
    "\n",
    "# Run the workflow with year parameter\n",
    "# Note: optimize__year parameter specifies which investment period to optimize\n",
    "network, setup_summary = run_model_workflow(model_id, optimize__year=optimize_year)\n",
    "\n",
    "# Calculate solve time\n",
    "solve_time = time.time() - start_time\n",
    "\n",
    "print()\n",
    "print(\"=\" * 70)\n",
    "print(f\" Model Solve Complete\")\n",
    "print(\"=\" * 70)\n",
    "print(f\"Total time: {solve_time / 60:.2f} minutes\")"
   ]
  },
  {
   "cell_type": "markdown",
   "id": "save-header",
   "metadata": {},
   "source": [
    "## Save Results\n",
    "\n",
    "Now we'll save the solved network to a specific filename that the analysis notebook will reference."
   ]
  },
  {
   "cell_type": "code",
   "execution_count": null,
   "id": "save",
   "metadata": {},
   "outputs": [],
   "source": [
    "# Save network to specified output file\n",
    "results_dir.mkdir(parents=True, exist_ok=True)\n",
    "network.export_to_netcdf(str(output_path))\n",
    "\n",
    "print(f\"✓ Network saved to: {output_path}\")\n",
    "print(f\"  File size: {output_path.stat().st_size / 1024 / 1024:.2f} MB\")"
   ]
  },
  {
   "cell_type": "markdown",
   "id": "summary-header",
   "metadata": {},
   "source": [
    "## Solve Summary and Verification\n",
    "\n",
    "Let's verify the solve succeeded and display key statistics."
   ]
  },
  {
   "cell_type": "code",
   "execution_count": null,
   "id": "summary",
   "metadata": {},
   "outputs": [],
   "source": [
    "# Display network statistics\n",
    "print(\"=\" * 70)\n",
    "print(\" Network Statistics\")\n",
    "print(\"=\" * 70)\n",
    "print()\n",
    "print(f\"Buses:           {len(network.buses)}\")\n",
    "print(f\"Generators:      {len(network.generators)}\")\n",
    "print(f\"Loads:           {len(network.loads)}\")\n",
    "print(f\"Links:           {len(network.links)}\")\n",
    "print(f\"Storage Units:   {len(network.storage_units)}\")\n",
    "print(f\"Stores:          {len(network.stores)}\")\n",
    "print()\n",
    "print(f\"Snapshots:       {len(network.snapshots)}\")\n",
    "\n",
    "# Check if multi-period\n",
    "if hasattr(network, \"investment_periods\") and len(network.investment_periods) > 0:\n",
    "    print(f\"Investment Periods: {len(network.investment_periods)}\")\n",
    "    print(f\"  Optimized for: {optimize_year}\")\n",
    "else:\n",
    "    print(f\"Optimization Year: {optimize_year}\")\n",
    "\n",
    "print(f\"Carriers:        {len(network.carriers)}\")\n",
    "print()\n",
    "\n",
    "# Display objective value if available\n",
    "try:\n",
    "    objective = network.objective\n",
    "    print(f\"Objective Value: ${objective:,.0f}\")\n",
    "except:\n",
    "    print(\"Objective Value: Not available\")\n",
    "\n",
    "print()\n",
    "print(f\"Solve Time:      {solve_time / 60:.2f} minutes\")\n",
    "print()\n",
    "print(\"=\" * 70)"
   ]
  },
  {
   "cell_type": "markdown",
   "id": "carriers-header",
   "metadata": {},
   "source": [
    "## Carrier Overview\n",
    "\n",
    "Display the unique carriers (energy types) in the AEMO model:"
   ]
  },
  {
   "cell_type": "code",
   "execution_count": null,
   "id": "carriers",
   "metadata": {},
   "outputs": [],
   "source": [
    "# Show unique carriers\n",
    "carriers = network.generators.carrier.unique().tolist()\n",
    "print(f\"Total unique carriers: {len(carriers)}\")\n",
    "print()\n",
    "print(\"Carriers in AEMO model:\")\n",
    "for i, carrier in enumerate(sorted(carriers), 1):\n",
    "    print(f\"  {i:2d}. {carrier}\")"
   ]
  },
  {
   "cell_type": "markdown",
   "id": "regions-header",
   "metadata": {},
   "source": [
    "## NEM Regions\n",
    "\n",
    "Display the buses representing Australian NEM regions:"
   ]
  },
  {
   "cell_type": "code",
   "execution_count": null,
   "id": "regions",
   "metadata": {},
   "outputs": [],
   "source": [
    "# Show buses (NEM regions)\n",
    "print(f\"Total buses: {len(network.buses)}\")\n",
    "print()\n",
    "print(\"NEM Regions (Buses):\")\n",
    "for i, bus in enumerate(network.buses.index, 1):\n",
    "    print(f\"  {i}. {bus}\")"
   ]
  },
  {
   "cell_type": "markdown",
   "id": "next-header",
   "metadata": {},
   "source": [
    "---\n",
    "\n",
    "## Next Steps\n",
    "\n",
    "✓ Model solved successfully for year 2025!\n",
    "\n",
    "✓ Results saved to: `solved_network_2025.nc`\n",
    "\n",
    "**Continue to**: `aemo_analysis.ipynb` for detailed analysis and visualization of these results.\n",
    "\n",
    "---"
   ]
  }
 ],
 "metadata": {
  "kernelspec": {
   "display_name": "",
   "language": "python",
   "name": ""
  },
  "language_info": {
   "codemirror_mode": {
    "name": "ipython",
    "version": 3
   },
   "file_extension": ".py",
   "mimetype": "text/x-python",
   "name": "python",
   "nbconvert_exporter": "python",
   "pygments_lexer": "ipython3",
   "version": "3.11.9"
  }
 },
 "nbformat": 4,
 "nbformat_minor": 5
}
