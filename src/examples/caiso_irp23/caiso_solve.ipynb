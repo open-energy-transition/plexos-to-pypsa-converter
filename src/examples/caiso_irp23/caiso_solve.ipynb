{
 "cells": [
  {
   "cell_type": "markdown",
   "id": "intro",
   "metadata": {},
   "source": [
    "# CAISO-IRP23 Network Model - Execution\n",
    "\n",
    "This notebook executes the CAISO IRP 2023 energy system model using PyPSA.\n",
    "\n",
    "## Model Overview\n",
    "\n",
    "**CAISO IRP23** (California ISO Integrated Resource Plan 2023) represents California's electricity system including:\n",
    "- Generation resources (thermal, renewables, storage)\n",
    "- Transmission infrastructure\n",
    "- Load demand patterns\n",
    "- Operational constraints\n",
    "\n",
    "This model uses the **aggregate node strategy** where all demand is assigned to a single `CAISO_Load_Aggregate` node.\n",
    "\n",
    "## Configuration\n",
    "\n",
    "- **Solve Duration**: 1 year (to minimize computation time)\n",
    "- **Output File**: `solved_network_1year.nc`\n",
    "- **Model Type**: Electricity-only network\n",
    "- **Demand Strategy**: Aggregate node\n",
    "\n",
    "---"
   ]
  },
  {
   "cell_type": "markdown",
   "id": "setup-header",
   "metadata": {},
   "source": [
    "## Setup and Imports"
   ]
  },
  {
   "cell_type": "code",
   "execution_count": null,
   "id": "imports",
   "metadata": {},
   "outputs": [],
   "source": [
    "import sys\n",
    "import time\n",
    "from pathlib import Path\n",
    "\n",
    "# Add src to path\n",
    "sys.path.insert(0, str(Path.cwd().parent / \"src\"))\n",
    "\n",
    "\n",
    "from workflow import run_model_workflow"
   ]
  },
  {
   "cell_type": "markdown",
   "id": "config-header",
   "metadata": {},
   "source": [
    "## Model Configuration\n",
    "\n",
    "We'll configure the CAISO-IRP23 model to solve for **1 year only** to reduce computation time. The model will:\n",
    "\n",
    "1. Load the PLEXOS XML data and time series\n",
    "2. Convert to PyPSA format with aggregate node strategy\n",
    "3. Solve the optimization problem\n",
    "4. Save results to a NetCDF file\n",
    "\n",
    "**Output Location**: `src/examples/results/caiso-irp23/solved_network_1year.nc`"
   ]
  },
  {
   "cell_type": "code",
   "execution_count": null,
   "id": "config",
   "metadata": {},
   "outputs": [],
   "source": [
    "# Configuration\n",
    "model_id = \"caiso-irp23\"\n",
    "output_filename = \"solved_network_1year.nc\"\n",
    "results_dir = Path.cwd().parent / \"examples\" / \"results\" / model_id\n",
    "output_path = results_dir / output_filename\n",
    "\n",
    "print(f\"Model ID: {model_id}\")\n",
    "print(f\"Output file: {output_path}\")\n",
    "print(f\"Results directory: {results_dir}\")"
   ]
  },
  {
   "cell_type": "markdown",
   "id": "solve-header",
   "metadata": {},
   "source": [
    "## Execute Model Solve\n",
    "\n",
    "This cell will execute the complete workflow:\n",
    "- Load PLEXOS data\n",
    "- Create PyPSA network\n",
    "- Run optimization\n",
    "- Save results\n",
    "\n",
    "**Note**: This may take several minutes depending on the model size and your system. The solve log will be displayed below."
   ]
  },
  {
   "cell_type": "code",
   "execution_count": null,
   "id": "solve",
   "metadata": {},
   "outputs": [],
   "source": [
    "# Track solve time\n",
    "start_time = time.time()\n",
    "\n",
    "print(\"=\" * 70)\n",
    "print(\" Starting CAISO-IRP23 Model Solve\")\n",
    "print(\"=\" * 70)\n",
    "print()\n",
    "\n",
    "# Run the workflow\n",
    "# Note: The run_model_workflow function loads the model, solves it, and saves results\n",
    "network, setup_summary = run_model_workflow(model_id)\n",
    "\n",
    "# Calculate solve time\n",
    "solve_time = time.time() - start_time\n",
    "\n",
    "print()\n",
    "print(\"=\" * 70)\n",
    "print(\" Model Solve Complete\")\n",
    "print(\"=\" * 70)\n",
    "print(f\"Total time: {solve_time / 60:.2f} minutes\")"
   ]
  },
  {
   "cell_type": "markdown",
   "id": "save-header",
   "metadata": {},
   "source": [
    "## Save Results\n",
    "\n",
    "Now we'll save the solved network to a specific filename that the analysis notebook will reference."
   ]
  },
  {
   "cell_type": "code",
   "execution_count": null,
   "id": "save",
   "metadata": {},
   "outputs": [],
   "source": [
    "# Save network to specified output file\n",
    "results_dir.mkdir(parents=True, exist_ok=True)\n",
    "network.export_to_netcdf(str(output_path))\n",
    "\n",
    "print(f\"✓ Network saved to: {output_path}\")\n",
    "print(f\"  File size: {output_path.stat().st_size / 1024 / 1024:.2f} MB\")"
   ]
  },
  {
   "cell_type": "markdown",
   "id": "summary-header",
   "metadata": {},
   "source": [
    "## Solve Summary and Verification\n",
    "\n",
    "Let's verify the solve succeeded and display key statistics."
   ]
  },
  {
   "cell_type": "code",
   "execution_count": null,
   "id": "summary",
   "metadata": {},
   "outputs": [],
   "source": [
    "# Display network statistics\n",
    "print(\"=\" * 70)\n",
    "print(\" Network Statistics\")\n",
    "print(\"=\" * 70)\n",
    "print()\n",
    "print(f\"Buses:           {len(network.buses)}\")\n",
    "print(f\"Generators:      {len(network.generators)}\")\n",
    "print(f\"Loads:           {len(network.loads)}\")\n",
    "print(f\"Links:           {len(network.links)}\")\n",
    "print(f\"Storage Units:   {len(network.storage_units)}\")\n",
    "print(f\"Stores:          {len(network.stores)}\")\n",
    "print()\n",
    "print(f\"Snapshots:       {len(network.snapshots)}\")\n",
    "print(f\"Carriers:        {len(network.carriers)}\")\n",
    "print()\n",
    "\n",
    "# Display objective value if available\n",
    "try:\n",
    "    objective = network.objective\n",
    "    print(f\"Objective Value: ${objective:,.0f}\")\n",
    "except:\n",
    "    print(\"Objective Value: Not available\")\n",
    "\n",
    "print()\n",
    "print(f\"Solve Time:      {solve_time / 60:.2f} minutes\")\n",
    "print()\n",
    "print(\"=\" * 70)"
   ]
  },
  {
   "cell_type": "markdown",
   "id": "carriers-header",
   "metadata": {},
   "source": [
    "## Carrier Overview\n",
    "\n",
    "Display the unique carriers (energy types) in the model:"
   ]
  },
  {
   "cell_type": "code",
   "execution_count": null,
   "id": "carriers",
   "metadata": {},
   "outputs": [],
   "source": [
    "# Show unique carriers\n",
    "carriers = network.generators.carrier.unique().tolist()\n",
    "print(f\"Total unique carriers: {len(carriers)}\")\n",
    "print()\n",
    "print(\"Carriers in model:\")\n",
    "for i, carrier in enumerate(sorted(carriers), 1):\n",
    "    print(f\"  {i:2d}. {carrier}\")"
   ]
  },
  {
   "cell_type": "markdown",
   "id": "next-header",
   "metadata": {},
   "source": [
    "---\n",
    "\n",
    "## Next Steps\n",
    "\n",
    "✓ Model solved successfully!\n",
    "\n",
    "✓ Results saved to: `solved_network_1year.nc`\n",
    "\n",
    "**Continue to**: `caiso_analysis.ipynb` for detailed analysis and visualization of these results.\n",
    "\n",
    "---"
   ]
  }
 ],
 "metadata": {
  "kernelspec": {
   "display_name": "",
   "language": "python",
   "name": ""
  },
  "language_info": {
   "codemirror_mode": {
    "name": "ipython",
    "version": 3
   },
   "file_extension": ".py",
   "mimetype": "text/x-python",
   "name": "python",
   "nbconvert_exporter": "python",
   "pygments_lexer": "ipython3",
   "version": "3.11.9"
  }
 },
 "nbformat": 4,
 "nbformat_minor": 5
}
